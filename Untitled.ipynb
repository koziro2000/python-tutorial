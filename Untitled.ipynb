{
 "cells": [
  {
   "cell_type": "code",
   "execution_count": 1,
   "metadata": {},
   "outputs": [],
   "source": [
    "from xml.etree.ElementTree import Element, SubElement, Comment, tostring"
   ]
  },
  {
   "cell_type": "code",
   "execution_count": 3,
   "metadata": {},
   "outputs": [
    {
     "data": {
      "text/plain": [
       "b'<top><!--Generated for PyMOTW--><child>This child contains text.</child><child_with_tail>This child has regular text.</child_with_tail>And \"tail\" text.<child_with_entity_ref>This &amp; That</child_with_entity_ref></top>'"
      ]
     },
     "execution_count": 3,
     "metadata": {},
     "output_type": "execute_result"
    }
   ],
   "source": [
    "top = Element('top')\n",
    "\n",
    "comment = Comment('Generated for PyMOTW')\n",
    "top.append(comment)\n",
    "\n",
    "child = SubElement(top, 'child')\n",
    "child.text = 'This child contains text.'\n",
    "\n",
    "child_with_tail = SubElement(top, 'child_with_tail')\n",
    "child_with_tail.text = 'This child has regular text.'\n",
    "child_with_tail.tail = 'And \"tail\" text.'\n",
    "\n",
    "child_with_entity_ref = SubElement(top, 'child_with_entity_ref')\n",
    "child_with_entity_ref.text = 'This & That'\n",
    "\n",
    "tostring(top)"
   ]
  },
  {
   "cell_type": "code",
   "execution_count": 4,
   "metadata": {},
   "outputs": [],
   "source": [
    "from xml.etree import ElementTree\n",
    "from xml.dom import minidom\n",
    "\n",
    "def prettify(elem):\n",
    "    \"\"\"Return a pretty-printed XML string for the Element.\n",
    "    \"\"\"\n",
    "    rough_string = ElementTree.tostring(elem, 'utf-8')\n",
    "    reparsed = minidom.parseString(rough_string)\n",
    "    return reparsed.toprettyxml(indent=\"  \")"
   ]
  },
  {
   "cell_type": "code",
   "execution_count": 6,
   "metadata": {},
   "outputs": [
    {
     "name": "stdout",
     "output_type": "stream",
     "text": [
      "<?xml version=\"1.0\" ?>\n",
      "<top>\n",
      "  <!--Generated for PyMOTW-->\n",
      "  <child>This child contains text.</child>\n",
      "  <child_with_tail>This child has regular text.</child_with_tail>\n",
      "  And &quot;tail&quot; text.\n",
      "  <child_with_entity_ref>This &amp; That</child_with_entity_ref>\n",
      "</top>\n",
      "\n"
     ]
    }
   ],
   "source": [
    "print(prettify(top))"
   ]
  },
  {
   "cell_type": "code",
   "execution_count": null,
   "metadata": {},
   "outputs": [],
   "source": []
  }
 ],
 "metadata": {
  "kernelspec": {
   "display_name": "Python 3",
   "language": "python",
   "name": "python3"
  },
  "language_info": {
   "codemirror_mode": {
    "name": "ipython",
    "version": 3
   },
   "file_extension": ".py",
   "mimetype": "text/x-python",
   "name": "python",
   "nbconvert_exporter": "python",
   "pygments_lexer": "ipython3",
   "version": "3.6.3"
  }
 },
 "nbformat": 4,
 "nbformat_minor": 2
}
